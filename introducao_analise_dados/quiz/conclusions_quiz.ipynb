{
 "cells": [
  {
   "cell_type": "markdown",
   "metadata": {},
   "source": [
    "# Drawing Conclusions Quiz\n",
    "Use the space below to explore `store_data.csv` to answer the quiz questions below.\n",
    "\n",
    "Este csv apresenta um conjunto de dados de prática sobre vendas semanais de diferentes lojas de uma rede mercados.\n",
    "\n",
    "Determinados os dados de vendas das lojas, use o Python para tirar conclusões sobre como essas lojas estão performando.\n",
    "\n",
    "* Qual loja obteve o maior resultado de vendas no último mês?\n",
    "* Qual loja vende mais, em média?\n",
    "* Qual loja vendeu mais durante a semana de 13 de março de 2016?\n",
    "* Em qual semana a loja C tem o pior resultado de vendas?\n",
    "* Qual vendeu mais nos últimos três meses?"
   ]
  },
  {
   "cell_type": "code",
   "execution_count": 33,
   "metadata": {},
   "outputs": [],
   "source": [
    "# imports and load data\n",
    "import pandas as pd\n",
    "import numpy as ny\n",
    "df_store = pd.read_csv('../doc/store_data.csv')"
   ]
  },
  {
   "cell_type": "code",
   "execution_count": 34,
   "metadata": {},
   "outputs": [
    {
     "data": {
      "text/html": [
       "<div>\n",
       "<style scoped>\n",
       "    .dataframe tbody tr th:only-of-type {\n",
       "        vertical-align: middle;\n",
       "    }\n",
       "\n",
       "    .dataframe tbody tr th {\n",
       "        vertical-align: top;\n",
       "    }\n",
       "\n",
       "    .dataframe thead th {\n",
       "        text-align: right;\n",
       "    }\n",
       "</style>\n",
       "<table border=\"1\" class=\"dataframe\">\n",
       "  <thead>\n",
       "    <tr style=\"text-align: right;\">\n",
       "      <th></th>\n",
       "      <th>week</th>\n",
       "      <th>storeA</th>\n",
       "      <th>storeB</th>\n",
       "      <th>storeC</th>\n",
       "      <th>storeD</th>\n",
       "      <th>storeE</th>\n",
       "    </tr>\n",
       "  </thead>\n",
       "  <tbody>\n",
       "    <tr>\n",
       "      <th>0</th>\n",
       "      <td>2014-05-04</td>\n",
       "      <td>2643</td>\n",
       "      <td>8257</td>\n",
       "      <td>3893</td>\n",
       "      <td>6231</td>\n",
       "      <td>1294</td>\n",
       "    </tr>\n",
       "    <tr>\n",
       "      <th>1</th>\n",
       "      <td>2014-05-11</td>\n",
       "      <td>6444</td>\n",
       "      <td>5736</td>\n",
       "      <td>5634</td>\n",
       "      <td>7092</td>\n",
       "      <td>2907</td>\n",
       "    </tr>\n",
       "    <tr>\n",
       "      <th>2</th>\n",
       "      <td>2014-05-18</td>\n",
       "      <td>9646</td>\n",
       "      <td>2552</td>\n",
       "      <td>4253</td>\n",
       "      <td>5447</td>\n",
       "      <td>4736</td>\n",
       "    </tr>\n",
       "    <tr>\n",
       "      <th>3</th>\n",
       "      <td>2014-05-25</td>\n",
       "      <td>5960</td>\n",
       "      <td>10740</td>\n",
       "      <td>8264</td>\n",
       "      <td>6063</td>\n",
       "      <td>949</td>\n",
       "    </tr>\n",
       "    <tr>\n",
       "      <th>4</th>\n",
       "      <td>2014-06-01</td>\n",
       "      <td>7412</td>\n",
       "      <td>7374</td>\n",
       "      <td>3208</td>\n",
       "      <td>3985</td>\n",
       "      <td>3023</td>\n",
       "    </tr>\n",
       "  </tbody>\n",
       "</table>\n",
       "</div>"
      ],
      "text/plain": [
       "         week  storeA  storeB  storeC  storeD  storeE\n",
       "0  2014-05-04    2643    8257    3893    6231    1294\n",
       "1  2014-05-11    6444    5736    5634    7092    2907\n",
       "2  2014-05-18    9646    2552    4253    5447    4736\n",
       "3  2014-05-25    5960   10740    8264    6063     949\n",
       "4  2014-06-01    7412    7374    3208    3985    3023"
      ]
     },
     "execution_count": 34,
     "metadata": {},
     "output_type": "execute_result"
    }
   ],
   "source": [
    "# verificando os dados\n",
    "df_store.head()"
   ]
  },
  {
   "cell_type": "code",
   "execution_count": 35,
   "metadata": {},
   "outputs": [
    {
     "name": "stdout",
     "output_type": "stream",
     "text": [
      "             storeA        storeB       storeC       storeD       storeE\n",
      "count    200.000000    200.000000   200.000000   200.000000   200.000000\n",
      "mean    5865.480000   6756.710000  4942.105000  5431.405000  2580.025000\n",
      "std     2958.230318   3601.339489  1325.407768  1183.111323  1725.651381\n",
      "min      137.000000     14.000000   927.000000  2276.000000    39.000000\n",
      "25%     3812.250000   3884.500000  4053.500000  4717.000000  1235.000000\n",
      "50%     5713.500000   6771.000000  4962.500000  5382.000000  2522.000000\n",
      "75%     7662.250000   9350.500000  5801.750000  6243.750000  3574.250000\n",
      "max    14403.000000  15841.000000  8293.000000  8190.000000  7553.000000\n"
     ]
    }
   ],
   "source": [
    "# explore data\n",
    "describe = df_store.describe()\n",
    "print(describe)"
   ]
  },
  {
   "cell_type": "code",
   "execution_count": 36,
   "metadata": {},
   "outputs": [
    {
     "name": "stdout",
     "output_type": "stream",
     "text": [
      "199    2018-02-25\n",
      "Name: week, dtype: object\n"
     ]
    }
   ],
   "source": [
    "# total sales for the last month\n",
    "print(df_store['week'].tail(1))"
   ]
  },
  {
   "cell_type": "code",
   "execution_count": 37,
   "metadata": {},
   "outputs": [
    {
     "data": {
      "text/plain": [
       "str"
      ]
     },
     "execution_count": 37,
     "metadata": {},
     "output_type": "execute_result"
    }
   ],
   "source": [
    "type(df_store['week'][0])"
   ]
  },
  {
   "cell_type": "code",
   "execution_count": 38,
   "metadata": {},
   "outputs": [
    {
     "name": "stdout",
     "output_type": "stream",
     "text": [
      "           week  storeA  storeB  storeC  storeD  storeE\n",
      "199  2018-02-25    7560    6904    3569    5045    2585\n"
     ]
    }
   ],
   "source": [
    "# teste\n",
    "# last_week contém somente as vendas da última semana\n",
    "last_week = df_store[(df_store['week'] == '2018-02-25')]\n",
    "print(last_week)"
   ]
  },
  {
   "cell_type": "code",
   "execution_count": 39,
   "metadata": {},
   "outputs": [
    {
     "name": "stdout",
     "output_type": "stream",
     "text": [
      "     storeA  storeB  storeC  storeD  storeE\n",
      "199    7560    6904    3569    5045    2585\n"
     ]
    }
   ],
   "source": [
    "# last_week_sales é a mesma linha, sem a semana para atrapalhar a avaliação de máximo\n",
    "last_week_sales = last_week.loc[:, last_week.columns != 'week']\n",
    "print(last_week_sales)"
   ]
  },
  {
   "cell_type": "code",
   "execution_count": 40,
   "metadata": {},
   "outputs": [
    {
     "name": "stdout",
     "output_type": "stream",
     "text": [
      "[7560]\n"
     ]
    }
   ],
   "source": [
    "# a função max com axis=1 acha o maior valor entre as colunas\n",
    "print(last_week_sales.max(axis=1).values)"
   ]
  },
  {
   "cell_type": "code",
   "execution_count": 41,
   "metadata": {},
   "outputs": [
    {
     "name": "stdout",
     "output_type": "stream",
     "text": [
      "           week  storeA  storeB  storeC  storeD  storeE\n",
      "196  2018-02-04    4853    6503    4187    5956    1458\n",
      "197  2018-02-11    9202    3677    4540    6186     243\n",
      "198  2018-02-18    3512    7511    4151    5596    3501\n",
      "199  2018-02-25    7560    6904    3569    5045    2585\n",
      "     storeA  storeB  storeC  storeD  storeE\n",
      "196    4853    6503    4187    5956    1458\n",
      "197    9202    3677    4540    6186     243\n",
      "198    3512    7511    4151    5596    3501\n",
      "199    7560    6904    3569    5045    2585\n",
      "storeA    25127\n",
      "storeB    24595\n",
      "storeC    16447\n",
      "storeD    22783\n",
      "storeE     7787\n",
      "dtype: int64\n",
      "Loja com melhor resultado no último mês: storeA\n"
     ]
    }
   ],
   "source": [
    "# Loja com melhor resultado no último mês\n",
    "# Filtrando pelo período\n",
    "# Seleciona o intervalo de tempo\n",
    "# Soma as colunas\n",
    "# Exclui a week da seleção\n",
    "# Pega o índice com maior valor\n",
    "# Obs:\n",
    "# axis=0 define que a função deve ser aplicada em cada coluna\n",
    "# axis=1 define que a função deve ser aplicada em cada linha\n",
    "\n",
    "# Seleciona o intervalo de tempo\n",
    "last_month = df_store.loc[(df_store['week'] > '2018-02-01') & \n",
    "                                (df_store['week'] < '2018-03-01')]\n",
    "print(last_month)\n",
    "\n",
    "# Exclui a week da seleção\n",
    "last_month_sales = last_month.loc[:, last_month.columns != 'week']\n",
    "print(last_month_sales)\n",
    "\n",
    "# Soma as colunas\n",
    "sum_sales = last_month_sales.sum(axis=0)[:]\n",
    "print(sum_sales)\n",
    "\n",
    "# Pega o índice com maior valor\n",
    "print('Loja com melhor resultado no último mês: {0}'.format(sum_sales.idxmax()))\n"
   ]
  },
  {
   "cell_type": "code",
   "execution_count": 42,
   "metadata": {},
   "outputs": [
    {
     "data": {
      "text/plain": [
       "'storeB'"
      ]
     },
     "execution_count": 42,
     "metadata": {},
     "output_type": "execute_result"
    }
   ],
   "source": [
    "# average sales\n",
    "df_store.loc[:, df_store.columns != 'week'].sum(axis=0).idxmax()"
   ]
  },
  {
   "cell_type": "code",
   "execution_count": 43,
   "metadata": {},
   "outputs": [
    {
     "data": {
      "text/plain": [
       "'storeD'"
      ]
     },
     "execution_count": 43,
     "metadata": {},
     "output_type": "execute_result"
    }
   ],
   "source": [
    "# sales on march 13, 2016\n",
    "df_store.loc[df_store['week'] == '2016-03-13', df_store.columns != 'week'].max().idxmax()"
   ]
  },
  {
   "cell_type": "code",
   "execution_count": 44,
   "metadata": {},
   "outputs": [
    {
     "data": {
      "text/plain": [
       "'2014-07-06'"
      ]
     },
     "execution_count": 44,
     "metadata": {},
     "output_type": "execute_result"
    }
   ],
   "source": [
    "# worst week for store C\n",
    "# index do valor min de vendas da storeC\n",
    "storeC_min_index = df_store['storeC'].idxmin()\n",
    "# localizar a semana\n",
    "df_store.iloc[storeC_min_index]['week']\n",
    "\n"
   ]
  },
  {
   "cell_type": "code",
   "execution_count": 105,
   "metadata": {},
   "outputs": [
    {
     "name": "stdout",
     "output_type": "stream",
     "text": [
      "**entendendo Timestamp e Dateoffset**\n",
      "time_stamp: 2010-11-12 00:00:00, type(time_stamp): <class 'pandas._libs.tslibs.timestamps.Timestamp'>\n",
      "--\n",
      "d: 2008-08-18 09:00:00, type(date_time): <class 'datetime.datetime'>\n",
      "--\n",
      "somando 3dias e 2meses em date_time = 2008-08-18 09:00:00 ---> 2008-12-23 09:00:00\n",
      "**fim**\n"
     ]
    }
   ],
   "source": [
    "# conteudo estudo sobre datatime e DateOffset\n",
    "print('**entendendo Timestamp e Dateoffset**')\n",
    "time_stamp = pd.Timestamp('2010/11/12')\n",
    "print('time_stamp: {0}, type(time_stamp): {1}'.format(time_stamp, type(time_stamp)))\n",
    "print('--')\n",
    "date_time = pd.datetime(2008, 8, 18, 9, 0)\n",
    "print('d: {0}, type(date_time): {1}'.format(date_time, type(date_time)))\n",
    "print('--')\n",
    "print('somando {}dias e {}meses em date_time = {} ---> {}'.format(day, month, date_time, date_time + \n",
    "                                                                  pd.DateOffset(months=4, days=5)))\n",
    "print('**fim**')"
   ]
  },
  {
   "cell_type": "code",
   "execution_count": 117,
   "metadata": {},
   "outputs": [
    {
     "name": "stdout",
     "output_type": "stream",
     "text": [
      "# ver os ultimos meses vendo a ultima linha\n",
      "          week  storeA  storeB  storeC  storeD  storeE\n",
      "199 2018-02-25    7560    6904    3569    5045    2585\n",
      "# Primeiro precisamos converter a string para datetime\n",
      "199   2018-02-25\n",
      "Name: week, dtype: datetime64[ns]\n",
      "# limites para os ultimos 3 meses\n",
      "2017-11-25 00:00:00\n",
      "2018-02-25 00:00:00\n",
      "# período dos ultimos 3 meses\n",
      "          week  storeA  storeB  storeC  storeD  storeE\n",
      "186 2017-11-26    6866    5011    5401    4736    3232\n",
      "187 2017-12-03    5179    3850    6121    6778     113\n",
      "188 2017-12-10    9348    5624    5446    5448     227\n",
      "189 2017-12-17    5310    8647    5680    7049    3578\n",
      "190 2017-12-24    8976    9503    6240    3882    2890\n",
      "191 2017-12-31   11875    1527    6711    5265    1701\n",
      "192 2018-01-07    8978   11312    4158    5019    3842\n",
      "193 2018-01-14    6963    4014    4215    7153    3097\n",
      "194 2018-01-21    5553    3971    3761    6255    3071\n",
      "195 2018-01-28     282    6351    7759    5558    1028\n",
      "196 2018-02-04    4853    6503    4187    5956    1458\n",
      "197 2018-02-11    9202    3677    4540    6186     243\n",
      "198 2018-02-18    3512    7511    4151    5596    3501\n",
      "199 2018-02-25    7560    6904    3569    5045    2585\n",
      "#excluir week\n",
      "     storeA  storeB  storeC  storeD  storeE\n",
      "186    6866    5011    5401    4736    3232\n",
      "187    5179    3850    6121    6778     113\n",
      "188    9348    5624    5446    5448     227\n",
      "189    5310    8647    5680    7049    3578\n",
      "190    8976    9503    6240    3882    2890\n",
      "191   11875    1527    6711    5265    1701\n",
      "192    8978   11312    4158    5019    3842\n",
      "193    6963    4014    4215    7153    3097\n",
      "194    5553    3971    3761    6255    3071\n",
      "195     282    6351    7759    5558    1028\n",
      "196    4853    6503    4187    5956    1458\n",
      "197    9202    3677    4540    6186     243\n",
      "198    3512    7511    4151    5596    3501\n",
      "199    7560    6904    3569    5045    2585\n",
      "#soma das vendas\n",
      "storeA    94457\n",
      "storeB    84405\n",
      "storeC    71939\n",
      "storeD    79926\n",
      "storeE    30566\n",
      "dtype: int64\n",
      "#quem mais vendeu\n",
      "storeA\n"
     ]
    }
   ],
   "source": [
    "# total sales during most recent 3 month period\n",
    "    # ver o ultimo mes vendo a ultima linha\n",
    "last_period = df_store.tail(1)\n",
    "print('# ver os ultimos meses vendo a ultima linha')\n",
    "print(last_period)\n",
    "\n",
    "    # calcular esses meses\n",
    "    # Primeiro precisamos converter a string para datetime\n",
    "df_store['week'] = pd.to_datetime(df_store['week'] )\n",
    "print('# Primeiro precisamos converter a string para datetime')\n",
    "print(df_store['week'].tail(1))\n",
    "\n",
    "    # limites para os ultimos 3 meses\n",
    "period_start = df_store['week'].max() -  pd.DateOffset(months=3)\n",
    "print('# limites para os ultimos 3 meses')\n",
    "print(period_start)\n",
    "period_end = df_store['week'].max()\n",
    "print(period_end)\n",
    "    # período dos ultimos 3 meses\n",
    "last_tree_months = df_store.loc[(df_store['week'] >= period_start) & (df_store['week'] <= period_end)]\n",
    "print('# período dos ultimos 3 meses')\n",
    "print(last_tree_months)\n",
    "    #excluir coluna week\n",
    "sales_last_tree_months = last_tree_months.loc[:, last_tree_months.columns != 'week']\n",
    "print('#excluir week')\n",
    "print(sales_last_tree_months)\n",
    "    #soma das vendas\n",
    "sum_sales_tree_months = sales_last_tree_months.sum(axis=0)\n",
    "print('#soma das vendas')\n",
    "print(sum_sales_tree_months)\n",
    "    #quem mais vendeu\n",
    "higher_sales_tree_months = sum_sales_tree_months.idxmax()\n",
    "print('#quem mais vendeu')\n",
    "print(higher_sales_tree_months)\n"
   ]
  },
  {
   "cell_type": "code",
   "execution_count": null,
   "metadata": {},
   "outputs": [],
   "source": []
  }
 ],
 "metadata": {
  "kernelspec": {
   "display_name": "Python 3",
   "language": "python",
   "name": "python3"
  },
  "language_info": {
   "codemirror_mode": {
    "name": "ipython",
    "version": 3
   },
   "file_extension": ".py",
   "mimetype": "text/x-python",
   "name": "python",
   "nbconvert_exporter": "python",
   "pygments_lexer": "ipython3",
   "version": "3.6.6"
  }
 },
 "nbformat": 4,
 "nbformat_minor": 2
}
